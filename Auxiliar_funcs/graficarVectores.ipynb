{
 "cells": [
  {
   "cell_type": "code",
   "execution_count": 1,
   "metadata": {},
   "outputs": [],
   "source": [
    "def graficarVectores(vecs, cols, alpha=1):\n",
    "  plt.axvline(x=0, c='grey', zorder=0)\n",
    "  plt.axhline(y=0, c='grey', zorder=0)\n",
    "\n",
    "  for i, vec in enumerate(vecs):\n",
    "    x = np.concatenate([[0, 0], vec])\n",
    "    plt.quiver([x[0]], [x[1]], [x[2]], [x[3]], \n",
    "               angles='xy', scale_units='xy', scale=1, \n",
    "               alpha=alpha, color=cols[i])"
   ]
  },
  {
   "cell_type": "code",
   "execution_count": null,
   "metadata": {},
   "outputs": [],
   "source": []
  }
 ],
 "metadata": {
  "kernelspec": {
   "display_name": "Python 3",
   "language": "python",
   "name": "python3"
  },
  "language_info": {
   "codemirror_mode": {
    "name": "ipython",
    "version": 3
   },
   "file_extension": ".py",
   "mimetype": "text/x-python",
   "name": "python",
   "nbconvert_exporter": "python",
   "pygments_lexer": "ipython3",
   "version": "3.7.4"
  }
 },
 "nbformat": 4,
 "nbformat_minor": 2
}
